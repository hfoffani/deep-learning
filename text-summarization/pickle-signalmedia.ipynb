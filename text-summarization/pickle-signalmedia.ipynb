{
 "cells": [
  {
   "cell_type": "markdown",
   "metadata": {},
   "source": [
    "## Pickle data"
   ]
  },
  {
   "cell_type": "code",
   "execution_count": 48,
   "metadata": {},
   "outputs": [],
   "source": [
    "import gzip\n",
    "import pickle\n",
    "import json\n",
    "from tqdm import tqdm_notebook as tqdm"
   ]
  },
  {
   "cell_type": "code",
   "execution_count": 49,
   "metadata": {},
   "outputs": [
    {
     "name": "stderr",
     "output_type": "stream",
     "text": [
      "\n",
      "\n",
      "\u001b[A"
     ]
    },
    {
     "data": {
      "application/vnd.jupyter.widget-view+json": {
       "model_id": "42242ebb9ed64fe5895a6a8322f7a21c"
      }
     },
     "metadata": {},
     "output_type": "display_data"
    }
   ],
   "source": [
    "gz_file = '/Users/hernan/Downloads/signalmedia-1m.jsonl.gz'\n",
    "# gz_file = '/Users/hernan/Downloads/smedia-100.json.gz'\n",
    "\n",
    "output_file = '/Users/hernan/Downloads/signalmedia/signalmedia.pkl.gz'\n",
    "\n",
    "data = ([],[])\n",
    "with gzip.open(gz_file, 'rb') as fi:\n",
    "    for line in tqdm(fi, total=1000010):\n",
    "        article = json.loads(line)\n",
    "        data[0].append( article[\"title\"] )\n",
    "        data[1].append( article[\"content\"] )\n"
   ]
  },
  {
   "cell_type": "code",
   "execution_count": 50,
   "metadata": {},
   "outputs": [
    {
     "name": "stdout",
     "output_type": "stream",
     "text": [
      "writing...\n",
      "finished.\n"
     ]
    }
   ],
   "source": [
    "print(\"writing...\")\n",
    "with gzip.open(output_file, 'wb') as fo:\n",
    "    pickle.dump(data, fo)\n",
    "\n",
    "print('finished.')"
   ]
  },
  {
   "cell_type": "code",
   "execution_count": 54,
   "metadata": {},
   "outputs": [
    {
     "name": "stdout",
     "output_type": "stream",
     "text": [
      "reading again...\n",
      "1000000\n",
      "1000000\n",
      "Green groups urge Malcolm Turnbull to drop Tony Abbott's tax 'vendetta'\n",
      "Environment groups urge new Prime Minister Malcolm Turnbull to abandon any plans to change the tax status of green charities. \n",
      "\n",
      "Environment groups are urging Prime Minister Malcolm Turnbull to abandon any plans to change the tax status of green charities.\n",
      "\n",
      "A demonstration is expected outside the Victorian Parliament on Monday to coincide with hearings in Melbourne of a federal inquiry into the administration and transparency of environment groups.\n",
      "\n",
      "Green groups see the the inquiry, set up by the Abbott government in March, as a \"vendetta\" and fear changes that will remove the tax deductibility for donations to organisations pushing for environmental protection.\n",
      "\n",
      "Tony Abbott was particularly scathing of legal wrangling by environment groups to delay a proposal for a massive expansion of coal exports through the Great Barrier Reef.\n",
      "\n",
      "Mark Wakeham​ from Environment Victoria said about 1000 demonstrators were expected to protest over the inquiry.\n",
      "\n",
      "\"It does appear to be an attack on environment groups,\" Mr Wakeham said. He accused the Abbott government of attempting to silence critics.\n",
      "\n",
      "Environmental groups had been singled out ahead of other charities, he said.\n",
      "\n",
      "\"We'll be highlighting we've got a legitimate role to play in a democracy. That might be inconvenient for governments at times, but only for governments that don't have credible environmental policies.\"\n",
      "\n",
      "But the inquiry has also heard submissions from the Minerals Council of Australia, stating some environmental groups have exploited their tax deductible status to pursue \"ideological campaigns\" and encourage illegal behaviour, such as blockades.\n",
      "\n",
      "The Queensland Resources Council said many environmental groups were not operating within the rules of a charity or pursuing \"practical\" environmental work.\n",
      "\n",
      "The Victorian government urged the inquiry to \"take into account the various ways in which environmental organisations fulfil their goal of improving the natural environment\".\n",
      "\n",
      "Mr Wakeham said the change of prime minister was a chance to press a \"reset button\"\n",
      "\n",
      "Liberal senator Arthur Sinodinos​, a key driver in Malcolm Turnbull's toppling of Mr Abbott last week, appeared on Sunday to flag a more conciliatory approach in the politics of the environment.\n",
      "\n",
      "\"I think you'll see that there'll be a bit of an end to the idea that the environment and development have to be at loggerheads, that somehow it's a zero sum game. It's not,\" Senator Sinodinos told ABC TV.\n",
      "\n",
      "\"Good environmental policies can also be good economic policies and good economic policies give you a capacity to deal with environmental issues.\"\n",
      "\n",
      "The inquiry into the Register of Environmental Organisations has received almost 700 submissions. The story first appeared on The Sydney Morning Herald.\n",
      "CPU times: user 1min 14s, sys: 50.1 s, total: 2min 4s\n",
      "Wall time: 2min 57s\n",
      "Parser   : 6.86 s\n"
     ]
    }
   ],
   "source": [
    "%%time\n",
    "# del data\n",
    "\n",
    "print('reading again...')\n",
    "\n",
    "with gzip.open(output_file, 'rb') as pi:\n",
    "    heads, desc = pickle.load(pi)\n",
    "\n",
    "print(len(heads))\n",
    "print(len(desc))\n",
    "\n",
    "print(heads[-1])\n",
    "print(desc[-1])"
   ]
  },
  {
   "cell_type": "code",
   "execution_count": null,
   "metadata": {
    "collapsed": true
   },
   "outputs": [],
   "source": []
  }
 ],
 "metadata": {
  "kernelspec": {
   "display_name": "Python 3",
   "language": "python",
   "name": "python3"
  },
  "language_info": {
   "codemirror_mode": {
    "name": "ipython",
    "version": 3
   },
   "file_extension": ".py",
   "mimetype": "text/x-python",
   "name": "python",
   "nbconvert_exporter": "python",
   "pygments_lexer": "ipython3",
   "version": "3.6.1"
  }
 },
 "nbformat": 4,
 "nbformat_minor": 2
}
