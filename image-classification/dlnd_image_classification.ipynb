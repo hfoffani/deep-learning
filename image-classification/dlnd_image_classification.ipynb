{
 "cells": [
  {
   "cell_type": "markdown",
   "metadata": {
    "collapsed": true,
    "deletable": true,
    "editable": true
   },
   "source": [
    "# Image Classification\n",
    "In this project, you'll classify images from the [CIFAR-10 dataset](https://www.cs.toronto.edu/~kriz/cifar.html).  The dataset consists of airplanes, dogs, cats, and other objects. You'll preprocess the images, then train a convolutional neural network on all the samples. The images need to be normalized and the labels need to be one-hot encoded.  You'll get to apply what you learned and build a convolutional, max pooling, dropout, and fully connected layers.  At the end, you'll get to see your neural network's predictions on the sample images.\n",
    "## Get the Data\n",
    "Run the following cell to download the [CIFAR-10 dataset for python](https://www.cs.toronto.edu/~kriz/cifar-10-python.tar.gz)."
   ]
  },
  {
   "cell_type": "code",
   "execution_count": 464,
   "metadata": {
    "collapsed": false,
    "deletable": true,
    "editable": true
   },
   "outputs": [
    {
     "name": "stdout",
     "output_type": "stream",
     "text": [
      "All files found!\n"
     ]
    }
   ],
   "source": [
    "\"\"\"\n",
    "DON'T MODIFY ANYTHING IN THIS CELL THAT IS BELOW THIS LINE\n",
    "\"\"\"\n",
    "from urllib.request import urlretrieve\n",
    "from os.path import isfile, isdir\n",
    "from tqdm import tqdm\n",
    "import problem_unittests as tests\n",
    "import tarfile\n",
    "\n",
    "cifar10_dataset_folder_path = 'cifar-10-batches-py'\n",
    "\n",
    "# Use Floyd's cifar-10 dataset if present\n",
    "floyd_cifar10_location = '/input/cifar-10/python.tar.gz'\n",
    "if isfile(floyd_cifar10_location):\n",
    "    tar_gz_path = floyd_cifar10_location\n",
    "else:\n",
    "    tar_gz_path = 'cifar-10-python.tar.gz'\n",
    "\n",
    "class DLProgress(tqdm):\n",
    "    last_block = 0\n",
    "\n",
    "    def hook(self, block_num=1, block_size=1, total_size=None):\n",
    "        self.total = total_size\n",
    "        self.update((block_num - self.last_block) * block_size)\n",
    "        self.last_block = block_num\n",
    "\n",
    "if not isfile(tar_gz_path):\n",
    "    with DLProgress(unit='B', unit_scale=True, miniters=1, desc='CIFAR-10 Dataset') as pbar:\n",
    "        urlretrieve(\n",
    "            'https://www.cs.toronto.edu/~kriz/cifar-10-python.tar.gz',\n",
    "            tar_gz_path,\n",
    "            pbar.hook)\n",
    "\n",
    "if not isdir(cifar10_dataset_folder_path):\n",
    "    with tarfile.open(tar_gz_path) as tar:\n",
    "        tar.extractall()\n",
    "        tar.close()\n",
    "\n",
    "\n",
    "tests.test_folder_path(cifar10_dataset_folder_path)"
   ]
  },
  {
   "cell_type": "markdown",
   "metadata": {
    "deletable": true,
    "editable": true
   },
   "source": [
    "## Explore the Data\n",
    "The dataset is broken into batches to prevent your machine from running out of memory.  The CIFAR-10 dataset consists of 5 batches, named `data_batch_1`, `data_batch_2`, etc.. Each batch contains the labels and images that are one of the following:\n",
    "* airplane\n",
    "* automobile\n",
    "* bird\n",
    "* cat\n",
    "* deer\n",
    "* dog\n",
    "* frog\n",
    "* horse\n",
    "* ship\n",
    "* truck\n",
    "\n",
    "Understanding a dataset is part of making predictions on the data.  Play around with the code cell below by changing the `batch_id` and `sample_id`. The `batch_id` is the id for a batch (1-5). The `sample_id` is the id for a image and label pair in the batch.\n",
    "\n",
    "Ask yourself \"What are all possible labels?\", \"What is the range of values for the image data?\", \"Are the labels in order or random?\".  Answers to questions like these will help you preprocess the data and end up with better predictions."
   ]
  },
  {
   "cell_type": "code",
   "execution_count": 465,
   "metadata": {
    "collapsed": false,
    "deletable": true,
    "editable": true
   },
   "outputs": [
    {
     "name": "stdout",
     "output_type": "stream",
     "text": [
      "\n",
      "Stats of batch 1:\n",
      "Samples: 10000\n",
      "Label Counts: {0: 1005, 1: 974, 2: 1032, 3: 1016, 4: 999, 5: 937, 6: 1030, 7: 1001, 8: 1025, 9: 981}\n",
      "First 20 Labels: [6, 9, 9, 4, 1, 1, 2, 7, 8, 3, 4, 7, 7, 2, 9, 9, 9, 3, 2, 6]\n",
      "\n",
      "Example of Image 5:\n",
      "Image - Min Value: 0 Max Value: 252\n",
      "Image - Shape: (32, 32, 3)\n",
      "Label - Label Id: 1 Name: automobile\n"
     ]
    },
    {
     "data": {
      "image/png": "[encoded data removed]",
      "text/plain": [
       "<matplotlib.figure.Figure at 0x7fdaf5a35da0>"
      ]
     },
     "metadata": {
      "image/png": {
       "height": 250,
       "width": 253
      }
     },
     "output_type": "display_data"
    }
   ],
   "source": [
    "%matplotlib inline\n",
    "%config InlineBackend.figure_format = 'retina'\n",
    "\n",
    "import helper\n",
    "import numpy as np\n",
    "\n",
    "# Explore the dataset\n",
    "batch_id = 1\n",
    "sample_id = 5\n",
    "helper.display_stats(cifar10_dataset_folder_path, batch_id, sample_id)"
   ]
  },
  {
   "cell_type": "markdown",
   "metadata": {
    "deletable": true,
    "editable": true
   },
   "source": [
    "## Implement Preprocess Functions\n",
    "### Normalize\n",
    "In the cell below, implement the `normalize` function to take in image data, `x`, and return it as a normalized Numpy array. The values should be in the range of 0 to 1, inclusive.  The return object should be the same shape as `x`."
   ]
  },
  {
   "cell_type": "code",
   "execution_count": 466,
   "metadata": {
    "collapsed": false,
    "deletable": true,
    "editable": true
   },
   "outputs": [
    {
     "name": "stdout",
     "output_type": "stream",
     "text": [
      "Tests Passed\n"
     ]
    }
   ],
   "source": [
    "def normalize(x):\n",
    "    \"\"\"\n",
    "    Normalize a list of sample image data in the range of 0 to 1\n",
    "    : x: List of image data.  The image shape is (32, 32, 3)\n",
    "    : return: Numpy array of normalize data\n",
    "    \"\"\"\n",
    "    # TODO: Implement Function\n",
    "    return x / 255.0\n",
    "\n",
    "\n",
    "\"\"\"\n",
    "DON'T MODIFY ANYTHING IN THIS CELL THAT IS BELOW THIS LINE\n",
    "\"\"\"\n",
    "tests.test_normalize(normalize)"
   ]
  },
  {
   "cell_type": "markdown",
   "metadata": {
    "deletable": true,
    "editable": true
   },
   "source": [
    "### One-hot encode\n",
    "Just like the previous code cell, you'll be implementing a function for preprocessing.  This time, you'll implement the `one_hot_encode` function. The input, `x`, are a list of labels.  Implement the function to return the list of labels as One-Hot encoded Numpy array.  The possible values for labels are 0 to 9. The one-hot encoding function should return the same encoding for each value between each call to `one_hot_encode`.  Make sure to save the map of encodings outside the function.\n",
    "\n",
    "Hint: Don't reinvent the wheel."
   ]
  },
  {
   "cell_type": "code",
   "execution_count": 467,
   "metadata": {
    "collapsed": false,
    "deletable": true,
    "editable": true
   },
   "outputs": [
    {
     "name": "stdout",
     "output_type": "stream",
     "text": [
      "Tests Passed\n"
     ]
    }
   ],
   "source": [
    "def make_one_hots(n):\n",
    "    one_hots = {}\n",
    "    for i in range(n):\n",
    "        oh = np.zeros(n)\n",
    "        oh[i] = 1\n",
    "        one_hots[i] = oh\n",
    "    return one_hots\n",
    "\n",
    "one_hots = make_one_hots(10)\n",
    "\n",
    "def one_hot_encode(x):\n",
    "    \"\"\"\n",
    "    One hot encode a list of sample labels. Return a one-hot encoded vector for each label.\n",
    "    : x: List of sample Labels\n",
    "    : return: Numpy array of one-hot encoded labels\n",
    "    \"\"\"\n",
    "    # TODO: Implement Function\n",
    "    return np.array([ one_hots[i] for i in x ])\n",
    "\n",
    "\n",
    "\"\"\"\n",
    "DON'T MODIFY ANYTHING IN THIS CELL THAT IS BELOW THIS LINE\n",
    "\"\"\"\n",
    "tests.test_one_hot_encode(one_hot_encode)"
   ]
  },
  {
   "cell_type": "markdown",
   "metadata": {
    "deletable": true,
    "editable": true
   },
   "source": [
    "### Randomize Data\n",
    "As you saw from exploring the data above, the order of the samples are randomized.  It doesn't hurt to randomize it again, but you don't need to for this dataset."
   ]
  },
  {
   "cell_type": "markdown",
   "metadata": {
    "deletable": true,
    "editable": true
   },
   "source": [
    "## Preprocess all the data and save it\n",
    "Running the code cell below will preprocess all the CIFAR-10 data and save it to file. The code below also uses 10% of the training data for validation."
   ]
  },
  {
   "cell_type": "code",
   "execution_count": 468,
   "metadata": {
    "collapsed": false,
    "deletable": true,
    "editable": true
   },
   "outputs": [],
   "source": [
    "\"\"\"\n",
    "DON'T MODIFY ANYTHING IN THIS CELL\n",
    "\"\"\"\n",
    "# Preprocess Training, Validation, and Testing Data\n",
    "helper.preprocess_and_save_data(cifar10_dataset_folder_path, normalize, one_hot_encode)"
   ]
  },
  {
   "cell_type": "markdown",
   "metadata": {
    "deletable": true,
    "editable": true
   },
   "source": [
    "# Check Point\n",
    "This is your first checkpoint.  If you ever decide to come back to this notebook or have to restart the notebook, you can start from here.  The preprocessed data has been saved to disk."
   ]
  },
  {
   "cell_type": "code",
   "execution_count": 502,
   "metadata": {
    "collapsed": false,
    "deletable": true,
    "editable": true
   },
   "outputs": [],
   "source": [
    "\"\"\"\n",
    "DON'T MODIFY ANYTHING IN THIS CELL\n",
    "\"\"\"\n",
    "import pickle\n",
    "import problem_unittests as tests\n",
    "import helper\n",
    "\n",
    "# Load the Preprocessed Validation data\n",
    "valid_features, valid_labels = pickle.load(open('preprocess_validation.p', mode='rb'))"
   ]
  },
  {
   "cell_type": "markdown",
   "metadata": {
    "deletable": true,
    "editable": true
   },
   "source": [
    "## Build the network\n",
    "For the neural network, you'll build each layer into a function.  Most of the code you've seen has been outside of functions. To test your code more thoroughly, we require that you put each layer in a function.  This allows us to give you better feedback and test for simple mistakes using our unittests before you submit your project.\n",
    "\n",
    ">**Note:** If you're finding it hard to dedicate enough time for this course each week, we've provided a small shortcut to this part of the project. In the next couple of problems, you'll have the option to use classes from the [TensorFlow Layers](https://www.tensorflow.org/api_docs/python/tf/layers) or [TensorFlow Layers (contrib)](https://www.tensorflow.org/api_guides/python/contrib.layers) packages to build each layer, except the layers you build in the \"Convolutional and Max Pooling Layer\" section.  TF Layers is similar to Keras's and TFLearn's abstraction to layers, so it's easy to pickup.\n",
    "\n",
    ">However, if you would like to get the most out of this course, try to solve all the problems _without_ using anything from the TF Layers packages. You **can** still use classes from other packages that happen to have the same name as ones you find in TF Layers! For example, instead of using the TF Layers version of the `conv2d` class, [tf.layers.conv2d](https://www.tensorflow.org/api_docs/python/tf/layers/conv2d), you would want to use the TF Neural Network version of `conv2d`, [tf.nn.conv2d](https://www.tensorflow.org/api_docs/python/tf/nn/conv2d). \n",
    "\n",
    "Let's begin!\n",
    "\n",
    "### Input\n",
    "The neural network needs to read the image data, one-hot encoded labels, and dropout keep probability. Implement the following functions\n",
    "* Implement `neural_net_image_input`\n",
    " * Return a [TF Placeholder](https://www.tensorflow.org/api_docs/python/tf/placeholder)\n",
    " * Set the shape using `image_shape` with batch size set to `None`.\n",
    " * Name the TensorFlow placeholder \"x\" using the TensorFlow `name` parameter in the [TF Placeholder](https://www.tensorflow.org/api_docs/python/tf/placeholder).\n",
    "* Implement `neural_net_label_input`\n",
    " * Return a [TF Placeholder](https://www.tensorflow.org/api_docs/python/tf/placeholder)\n",
    " * Set the shape using `n_classes` with batch size set to `None`.\n",
    " * Name the TensorFlow placeholder \"y\" using the TensorFlow `name` parameter in the [TF Placeholder](https://www.tensorflow.org/api_docs/python/tf/placeholder).\n",
    "* Implement `neural_net_keep_prob_input`\n",
    " * Return a [TF Placeholder](https://www.tensorflow.org/api_docs/python/tf/placeholder) for dropout keep probability.\n",
    " * Name the TensorFlow placeholder \"keep_prob\" using the TensorFlow `name` parameter in the [TF Placeholder](https://www.tensorflow.org/api_docs/python/tf/placeholder).\n",
    "\n",
    "These names will be used at the end of the project to load your saved model.\n",
    "\n",
    "Note: `None` for shapes in TensorFlow allow for a dynamic size."
   ]
  },
  {
   "cell_type": "code",
   "execution_count": 503,
   "metadata": {
    "collapsed": false,
    "deletable": true,
    "editable": true
   },
   "outputs": [
    {
     "name": "stdout",
     "output_type": "stream",
     "text": [
      "Image Input Tests Passed.\n",
      "Label Input Tests Passed.\n",
      "Keep Prob Tests Passed.\n"
     ]
    }
   ],
   "source": [
    "import tensorflow as tf\n",
    "\n",
    "def neural_net_image_input(image_shape):\n",
    "    \"\"\"\n",
    "    Return a Tensor for a batch of image input\n",
    "    : image_shape: Shape of the images\n",
    "    : return: Tensor for image input.\n",
    "    \"\"\"\n",
    "    # TODO: Implement Function\n",
    "    x = tf.placeholder(tf.float32, shape=(None, image_shape[0], image_shape[1], image_shape[2]), name=\"x\")\n",
    "    return x\n",
    "\n",
    "\n",
    "def neural_net_label_input(n_classes):\n",
    "    \"\"\"\n",
    "    Return a Tensor for a batch of label input\n",
    "    : n_classes: Number of classes\n",
    "    : return: Tensor for label input.\n",
    "    \"\"\"\n",
    "    # TODO: Implement Function\n",
    "    y = tf.placeholder(tf.float32, shape=(None, n_classes), name=\"y\")\n",
    "    return y\n",
    "\n",
    "\n",
    "def neural_net_keep_prob_input():\n",
    "    \"\"\"\n",
    "    Return a Tensor for keep probability\n",
    "    : return: Tensor for keep probability.\n",
    "    \"\"\"\n",
    "    # TODO: Implement Function\n",
    "    keep_prob = tf.placeholder(tf.float32, name=\"keep_prob\")\n",
    "    return keep_prob\n",
    "\n",
    "\n",
    "\"\"\"\n",
    "DON'T MODIFY ANYTHING IN THIS CELL THAT IS BELOW THIS LINE\n",
    "\"\"\"\n",
    "tf.reset_default_graph()\n",
    "tests.test_nn_image_inputs(neural_net_image_input)\n",
    "tests.test_nn_label_inputs(neural_net_label_input)\n",
    "tests.test_nn_keep_prob_inputs(neural_net_keep_prob_input)"
   ]
  },
  {
   "cell_type": "markdown",
   "metadata": {
    "deletable": true,
    "editable": true
   },
   "source": [
    "### Convolution and Max Pooling Layer\n",
    "Convolution layers have a lot of success with images. For this code cell, you should implement the function `conv2d_maxpool` to apply convolution then max pooling:\n",
    "* Create the weight and bias using `conv_ksize`, `conv_num_outputs` and the shape of `x_tensor`.\n",
    "* Apply a convolution to `x_tensor` using weight and `conv_strides`.\n",
    " * We recommend you use same padding, but you're welcome to use any padding.\n",
    "* Add bias\n",
    "* Add a nonlinear activation to the convolution.\n",
    "* Apply Max Pooling using `pool_ksize` and `pool_strides`.\n",
    " * We recommend you use same padding, but you're welcome to use any padding.\n",
    "\n",
    "**Note:** You **can't** use [TensorFlow Layers](https://www.tensorflow.org/api_docs/python/tf/layers) or [TensorFlow Layers (contrib)](https://www.tensorflow.org/api_guides/python/contrib.layers) for **this** layer, but you can still use TensorFlow's [Neural Network](https://www.tensorflow.org/api_docs/python/tf/nn) package. You may still use the shortcut option for all the **other** layers."
   ]
  },
  {
   "cell_type": "code",
   "execution_count": 504,
   "metadata": {
    "collapsed": false,
    "deletable": true,
    "editable": true
   },
   "outputs": [
    {
     "name": "stdout",
     "output_type": "stream",
     "text": [
      "Tests Passed\n"
     ]
    }
   ],
   "source": [
    "def conv2d_maxpool(x_tensor, conv_num_outputs, conv_ksize, conv_strides, pool_ksize, pool_strides):\n",
    "    \"\"\"\n",
    "    Apply convolution then max pooling to x_tensor\n",
    "    :param x_tensor: TensorFlow Tensor\n",
    "    :param conv_num_outputs: Number of outputs for the convolutional layer\n",
    "    :param conv_ksize: kernal size 2-D Tuple for the convolutional layer\n",
    "    :param conv_strides: Stride 2-D Tuple for convolution\n",
    "    :param pool_ksize: kernal size 2-D Tuple for pool\n",
    "    :param pool_strides: Stride 2-D Tuple for pool\n",
    "    : return: A tensor that represents convolution and max pooling of x_tensor\n",
    "    \"\"\"\n",
    "    # TODO: Implement Function\n",
    "    xshape = x_tensor.get_shape().as_list()\n",
    "    weight = tf.Variable(tf.truncated_normal([\n",
    "        conv_ksize[0], conv_ksize[1], xshape[3], conv_num_outputs], stddev=0.05))\n",
    "    bias = tf.Variable(tf.constant(0.1, shape=[conv_num_outputs]))\n",
    "    padding = 'SAME'\n",
    "    strides = [1, conv_strides[0], conv_strides[1], 1]\n",
    "    conv2d = tf.nn.conv2d(x_tensor, weight, strides, padding) + bias\n",
    "    conv2d = tf.nn.relu(conv2d)\n",
    "    ksize = [1, pool_ksize[0], pool_ksize[1], 1]\n",
    "    strides = [1, pool_strides[0], pool_strides[1], 1]\n",
    "    conv2d = tf.nn.max_pool(conv2d, ksize, strides, padding)\n",
    "    return conv2d\n",
    "\n",
    "\n",
    "\"\"\"\n",
    "DON'T MODIFY ANYTHING IN THIS CELL THAT IS BELOW THIS LINE\n",
    "\"\"\"\n",
    "tests.test_con_pool(conv2d_maxpool)"
   ]
  },
  {
   "cell_type": "markdown",
   "metadata": {
    "deletable": true,
    "editable": true
   },
   "source": [
    "### Flatten Layer\n",
    "Implement the `flatten` function to change the dimension of `x_tensor` from a 4-D tensor to a 2-D tensor.  The output should be the shape (*Batch Size*, *Flattened Image Size*). Shortcut option: you can use classes from the [TensorFlow Layers](https://www.tensorflow.org/api_docs/python/tf/layers) or [TensorFlow Layers (contrib)](https://www.tensorflow.org/api_guides/python/contrib.layers) packages for this layer. For more of a challenge, only use other TensorFlow packages."
   ]
  },
  {
   "cell_type": "code",
   "execution_count": 505,
   "metadata": {
    "collapsed": false,
    "deletable": true,
    "editable": true
   },
   "outputs": [
    {
     "name": "stdout",
     "output_type": "stream",
     "text": [
      "Tests Passed\n"
     ]
    }
   ],
   "source": [
    "def flatten(x_tensor):\n",
    "    \"\"\"\n",
    "    Flatten x_tensor to (Batch Size, Flattened Image Size)\n",
    "    : x_tensor: A tensor of size (Batch Size, ...), where ... are the image dimensions.\n",
    "    : return: A tensor of size (Batch Size, Flattened Image Size).\n",
    "    \"\"\"\n",
    "    # TODO: Implement Function\n",
    "    dim = np.prod(x_tensor.get_shape().as_list()[1:])\n",
    "    x2 = tf.reshape(x_tensor, [-1, dim])\n",
    "    return x2\n",
    "\n",
    "\n",
    "\"\"\"\n",
    "DON'T MODIFY ANYTHING IN THIS CELL THAT IS BELOW THIS LINE\n",
    "\"\"\"\n",
    "tests.test_flatten(flatten)"
   ]
  },
  {
   "cell_type": "markdown",
   "metadata": {
    "deletable": true,
    "editable": true
   },
   "source": [
    "### Fully-Connected Layer\n",
    "Implement the `fully_conn` function to apply a fully connected layer to `x_tensor` with the shape (*Batch Size*, *num_outputs*). Shortcut option: you can use classes from the [TensorFlow Layers](https://www.tensorflow.org/api_docs/python/tf/layers) or [TensorFlow Layers (contrib)](https://www.tensorflow.org/api_guides/python/contrib.layers) packages for this layer. For more of a challenge, only use other TensorFlow packages."
   ]
  },
  {
   "cell_type": "code",
   "execution_count": 506,
   "metadata": {
    "collapsed": false,
    "deletable": true,
    "editable": true
   },
   "outputs": [
    {
     "name": "stdout",
     "output_type": "stream",
     "text": [
      "Tests Passed\n"
     ]
    }
   ],
   "source": [
    "def fully_conn(x_tensor, num_outputs):\n",
    "    \"\"\"\n",
    "    Apply a fully connected layer to x_tensor using weight and bias\n",
    "    : x_tensor: A 2-D tensor where the first dimension is batch size.\n",
    "    : num_outputs: The number of output that the new tensor should be.\n",
    "    : return: A 2-D tensor where the second dimension is num_outputs.\n",
    "    \"\"\"\n",
    "    # TODO: Implement Function\n",
    "    xshape = x_tensor.get_shape().as_list()\n",
    "    weight = tf.Variable(tf.truncated_normal([xshape[1], num_outputs], stddev=0.1))\n",
    "    bias = tf.Variable(tf.constant(0.1, shape=[num_outputs]))\n",
    "    fully = tf.nn.relu(tf.matmul(x_tensor, weight) + bias)\n",
    "    return fully\n",
    "\n",
    "\n",
    "\"\"\"\n",
    "DON'T MODIFY ANYTHING IN THIS CELL THAT IS BELOW THIS LINE\n",
    "\"\"\"\n",
    "tests.test_fully_conn(fully_conn)"
   ]
  },
  {
   "cell_type": "markdown",
   "metadata": {
    "deletable": true,
    "editable": true
   },
   "source": [
    "### Output Layer\n",
    "Implement the `output` function to apply a fully connected layer to `x_tensor` with the shape (*Batch Size*, *num_outputs*). Shortcut option: you can use classes from the [TensorFlow Layers](https://www.tensorflow.org/api_docs/python/tf/layers) or [TensorFlow Layers (contrib)](https://www.tensorflow.org/api_guides/python/contrib.layers) packages for this layer. For more of a challenge, only use other TensorFlow packages.\n",
    "\n",
    "**Note:** Activation, softmax, or cross entropy should **not** be applied to this."
   ]
  },
  {
   "cell_type": "code",
   "execution_count": 507,
   "metadata": {
    "collapsed": false,
    "deletable": true,
    "editable": true
   },
   "outputs": [
    {
     "name": "stdout",
     "output_type": "stream",
     "text": [
      "Tests Passed\n"
     ]
    }
   ],
   "source": [
    "def output(x_tensor, num_outputs):\n",
    "    \"\"\"\n",
    "    Apply a output layer to x_tensor using weight and bias\n",
    "    : x_tensor: A 2-D tensor where the first dimension is batch size.\n",
    "    : num_outputs: The number of output that the new tensor should be.\n",
    "    : return: A 2-D tensor where the second dimension is num_outputs.\n",
    "    \"\"\"\n",
    "    # TODO: Implement Function\n",
    "    xshape = x_tensor.get_shape().as_list()\n",
    "    weight = tf.Variable(tf.truncated_normal([xshape[1], num_outputs], stddev=0.1))\n",
    "    bias = tf.Variable(tf.constant(0.1, shape=[num_outputs]))\n",
    "    o = tf.matmul(x_tensor, weight) + bias\n",
    "    return o\n",
    "\n",
    "\"\"\"\n",
    "DON'T MODIFY ANYTHING IN THIS CELL THAT IS BELOW THIS LINE\n",
    "\"\"\"\n",
    "tests.test_output(output)"
   ]
  },
  {
   "cell_type": "markdown",
   "metadata": {
    "deletable": true,
    "editable": true
   },
   "source": [
    "### Create Convolutional Model\n",
    "Implement the function `conv_net` to create a convolutional neural network model. The function takes in a batch of images, `x`, and outputs logits.  Use the layers you created above to create this model:\n",
    "\n",
    "* Apply 1, 2, or 3 Convolution and Max Pool layers\n",
    "* Apply a Flatten Layer\n",
    "* Apply 1, 2, or 3 Fully Connected Layers\n",
    "* Apply an Output Layer\n",
    "* Return the output\n",
    "* Apply [TensorFlow's Dropout](https://www.tensorflow.org/api_docs/python/tf/nn/dropout) to one or more layers in the model using `keep_prob`. "
   ]
  },
  {
   "cell_type": "code",
   "execution_count": 508,
   "metadata": {
    "collapsed": false,
    "deletable": true,
    "editable": true
   },
   "outputs": [
    {
     "name": "stdout",
     "output_type": "stream",
     "text": [
      "\n",
      "MODEL:\n",
      "CONV [None, 32, 32, 16]\n",
      "CONV [None, 16, 16, 64]\n",
      "CONV [None, 4, 4, 96]\n",
      "FLAT [None, 1536]\n",
      "FC [None, 300]\n",
      "DROP\n",
      "FC [None, 100]\n",
      "DROP\n",
      "FC [None, 20]\n",
      "DROP\n",
      "OUT: [None, 10]\n",
      "\n",
      "MODEL:\n",
      "CONV [None, 32, 32, 16]\n",
      "CONV [None, 16, 16, 64]\n",
      "CONV [None, 4, 4, 96]\n",
      "FLAT [None, 1536]\n",
      "FC [None, 300]\n",
      "DROP\n",
      "FC [None, 100]\n",
      "DROP\n",
      "FC [None, 20]\n",
      "DROP\n",
      "OUT: [None, 10]\n",
      "Neural Network Built!\n"
     ]
    }
   ],
   "source": [
    "def conv_net(x, keep_prob):\n",
    "    \"\"\"\n",
    "    Create a convolutional neural network model\n",
    "    : x: Placeholder tensor that holds image data.\n",
    "    : keep_prob: Placeholder tensor that hold dropout keep probability.\n",
    "    : return: Tensor that represents logits\n",
    "    \"\"\"\n",
    "    conv_num_outputs_1 = 16\n",
    "    conv_ksize_1 = (5,5)\n",
    "    conv_strides_1 = (1,1)\n",
    "    pool_ksize_1 = (2,2)\n",
    "    pool_strides_1 = (1,1)\n",
    "    \n",
    "    conv_num_outputs_2 = 64\n",
    "    conv_ksize_2 = (5,5)\n",
    "    conv_strides_2 = (1,1)\n",
    "    pool_ksize_2 = (2,2)\n",
    "    pool_strides_2 = (2,2)\n",
    "\n",
    "    conv_num_outputs_3 = 96\n",
    "    conv_ksize_3 = (2,2)\n",
    "    conv_strides_3 = (2,2)\n",
    "    pool_ksize_3 = (2,2)\n",
    "    pool_strides_3 = (2,2)\n",
    "\n",
    "    fully_numouts_1 = 300\n",
    "    fully_numouts_2 = 100\n",
    "    fully_numouts_3 = 20\n",
    "    \n",
    "    num_outputs = 10\n",
    "    \n",
    "    print('\\nMODEL:')\n",
    "    \n",
    "    # TODO: Apply 1, 2, or 3 Convolution and Max Pool layers\n",
    "    #    Play around with different number of outputs, kernel size and stride\n",
    "    # Function Definition from Above:\n",
    "    x_tensor = conv2d_maxpool(x, conv_num_outputs_1, conv_ksize_1, conv_strides_1, pool_ksize_1, pool_strides_1)\n",
    "    print('CONV', x_tensor.get_shape().as_list())\n",
    "\n",
    "    x_tensor = conv2d_maxpool(x_tensor, conv_num_outputs_2, conv_ksize_2, conv_strides_2, pool_ksize_2, pool_strides_2)\n",
    "    print('CONV', x_tensor.get_shape().as_list())\n",
    "\n",
    "    x_tensor = conv2d_maxpool(x_tensor, conv_num_outputs_3, conv_ksize_3, conv_strides_3, pool_ksize_3, pool_strides_3)\n",
    "    print('CONV', x_tensor.get_shape().as_list())\n",
    "\n",
    "    # TODO: Apply a Flatten Layer\n",
    "    # Function Definition from Above:\n",
    "    #   flatten(x_tensor)\n",
    "    x_tensor = flatten(x_tensor)\n",
    "    print('FLAT', x_tensor.get_shape().as_list())\n",
    "\n",
    "    # TODO: Apply 1, 2, or 3 Fully Connected Layers\n",
    "    #    Play around with different number of outputs\n",
    "    # Function Definition from Above:\n",
    "    #   fully_conn(x_tensor, num_outputs)\n",
    "    x_tensor = fully_conn(x_tensor, fully_numouts_1)\n",
    "    print('FC', x_tensor.get_shape().as_list())\n",
    "\n",
    "    x_tensor = tf.nn.dropout(x_tensor, keep_prob)\n",
    "    print('DROP')\n",
    "\n",
    "    x_tensor = fully_conn(x_tensor, fully_numouts_2)\n",
    "    print('FC', x_tensor.get_shape().as_list())\n",
    "\n",
    "    x_tensor = tf.nn.dropout(x_tensor, keep_prob)\n",
    "    print('DROP')\n",
    "\n",
    "    x_tensor = fully_conn(x_tensor, fully_numouts_3)\n",
    "    print('FC', x_tensor.get_shape().as_list())\n",
    "\n",
    "    x_tensor = tf.nn.dropout(x_tensor, keep_prob)\n",
    "    print('DROP')\n",
    "\n",
    "    # TODO: Apply an Output Layer\n",
    "    #    Set this to the number of classes\n",
    "    # Function Definition from Above:\n",
    "    #   output(x_tensor, num_outputs)\n",
    "    o = output(x_tensor, num_outputs)\n",
    "    print('OUT:', o.get_shape().as_list())\n",
    "    \n",
    "    # TODO: return output\n",
    "    return o\n",
    "\n",
    "\n",
    "\"\"\"\n",
    "DON'T MODIFY ANYTHING IN THIS CELL THAT IS BELOW THIS LINE\n",
    "\"\"\"\n",
    "\n",
    "##############################\n",
    "## Build the Neural Network ##\n",
    "##############################\n",
    "\n",
    "# Remove previous weights, bias, inputs, etc..\n",
    "tf.reset_default_graph()\n",
    "\n",
    "# Inputs\n",
    "x = neural_net_image_input((32, 32, 3))\n",
    "y = neural_net_label_input(10)\n",
    "keep_prob = neural_net_keep_prob_input()\n",
    "\n",
    "# Model\n",
    "logits = conv_net(x, keep_prob)\n",
    "\n",
    "# Name logits Tensor, so that is can be loaded from disk after training\n",
    "logits = tf.identity(logits, name='logits')\n",
    "\n",
    "# Loss and Optimizer\n",
    "cost = tf.reduce_mean(tf.nn.softmax_cross_entropy_with_logits(logits=logits, labels=y))\n",
    "optimizer = tf.train.AdamOptimizer().minimize(cost)\n",
    "\n",
    "# Accuracy\n",
    "correct_pred = tf.equal(tf.argmax(logits, 1), tf.argmax(y, 1))\n",
    "accuracy = tf.reduce_mean(tf.cast(correct_pred, tf.float32), name='accuracy')\n",
    "\n",
    "tests.test_conv_net(conv_net)"
   ]
  },
  {
   "cell_type": "markdown",
   "metadata": {
    "deletable": true,
    "editable": true
   },
   "source": [
    "## Train the Neural Network\n",
    "### Single Optimization\n",
    "Implement the function `train_neural_network` to do a single optimization.  The optimization should use `optimizer` to optimize in `session` with a `feed_dict` of the following:\n",
    "* `x` for image input\n",
    "* `y` for labels\n",
    "* `keep_prob` for keep probability for dropout\n",
    "\n",
    "This function will be called for each batch, so `tf.global_variables_initializer()` has already been called.\n",
    "\n",
    "Note: Nothing needs to be returned. This function is only optimizing the neural network."
   ]
  },
  {
   "cell_type": "code",
   "execution_count": 509,
   "metadata": {
    "collapsed": false,
    "deletable": true,
    "editable": true
   },
   "outputs": [
    {
     "name": "stdout",
     "output_type": "stream",
     "text": [
      "Tests Passed\n"
     ]
    }
   ],
   "source": [
    "def train_neural_network(session, optimizer, keep_probability, feature_batch, label_batch):\n",
    "    \"\"\"\n",
    "    Optimize the session on a batch of images and labels\n",
    "    : session: Current TensorFlow session\n",
    "    : optimizer: TensorFlow optimizer function\n",
    "    : keep_probability: keep probability\n",
    "    : feature_batch: Batch of Numpy image data\n",
    "    : label_batch: Batch of Numpy label data\n",
    "    \"\"\"\n",
    "    # TODO: Implement Function\n",
    "    session.run(optimizer, feed_dict={ x:feature_batch, y:label_batch, keep_prob:keep_probability} )\n",
    "    pass\n",
    "\n",
    "\n",
    "\"\"\"\n",
    "DON'T MODIFY ANYTHING IN THIS CELL THAT IS BELOW THIS LINE\n",
    "\"\"\"\n",
    "tests.test_train_nn(train_neural_network)"
   ]
  },
  {
   "cell_type": "markdown",
   "metadata": {
    "deletable": true,
    "editable": true
   },
   "source": [
    "### Show Stats\n",
    "Implement the function `print_stats` to print loss and validation accuracy.  Use the global variables `valid_features` and `valid_labels` to calculate validation accuracy.  Use a keep probability of `1.0` to calculate the loss and validation accuracy."
   ]
  },
  {
   "cell_type": "code",
   "execution_count": 510,
   "metadata": {
    "collapsed": false,
    "deletable": true,
    "editable": true
   },
   "outputs": [],
   "source": [
    "def print_stats(session, feature_batch, label_batch, cost, accuracy):\n",
    "    \"\"\"\n",
    "    Print information about loss and validation accuracy\n",
    "    : session: Current TensorFlow session\n",
    "    : feature_batch: Batch of Numpy image data\n",
    "    : label_batch: Batch of Numpy label data\n",
    "    : cost: TensorFlow cost function\n",
    "    : accuracy: TensorFlow accuracy function\n",
    "    \"\"\"\n",
    "    # TODO: Implement Function\n",
    "    cst = sess.run(cost, feed_dict={ x:feature_batch, y:label_batch, keep_prob:1.0})\n",
    "    acc = sess.run(accuracy, feed_dict={x:valid_features, y:valid_labels, keep_prob:1.0})\n",
    "    print('Loss %f - Accuracy %.1f%%' % (cst, acc*100))\n",
    "    pass"
   ]
  },
  {
   "cell_type": "markdown",
   "metadata": {
    "deletable": true,
    "editable": true
   },
   "source": [
    "### Hyperparameters\n",
    "Tune the following parameters:\n",
    "* Set `epochs` to the number of iterations until the network stops learning or start overfitting\n",
    "* Set `batch_size` to the highest number that your machine has memory for.  Most people set them to common sizes of memory:\n",
    " * 64\n",
    " * 128\n",
    " * 256\n",
    " * ...\n",
    "* Set `keep_probability` to the probability of keeping a node using dropout"
   ]
  },
  {
   "cell_type": "code",
   "execution_count": 511,
   "metadata": {
    "collapsed": true,
    "deletable": true,
    "editable": true
   },
   "outputs": [],
   "source": [
    "# TODO: Tune Parameters\n",
    "epochs = 50\n",
    "batch_size = 64\n",
    "keep_probability = .5\n"
   ]
  },
  {
   "cell_type": "markdown",
   "metadata": {
    "deletable": true,
    "editable": true
   },
   "source": [
    "### Train on a Single CIFAR-10 Batch\n",
    "Instead of training the neural network on all the CIFAR-10 batches of data, let's use a single batch. This should save time while you iterate on the model to get a better accuracy.  Once the final validation accuracy is 50% or greater, run the model on all the data in the next section."
   ]
  },
  {
   "cell_type": "code",
   "execution_count": 512,
   "metadata": {
    "collapsed": false,
    "deletable": true,
    "editable": true
   },
   "outputs": [
    {
     "name": "stdout",
     "output_type": "stream",
     "text": [
      "Checking the Training on a Single Batch...\n",
      "Epoch  1, CIFAR-10 Batch 1:  Loss 2.302091 - Accuracy 11.4%\n",
      "Epoch  2, CIFAR-10 Batch 1:  Loss 2.303066 - Accuracy 9.8%\n",
      "Epoch  3, CIFAR-10 Batch 1:  Loss 2.298271 - Accuracy 14.6%\n",
      "Epoch  4, CIFAR-10 Batch 1:  Loss 2.208423 - Accuracy 18.9%\n",
      "Epoch  5, CIFAR-10 Batch 1:  Loss 2.209783 - Accuracy 22.0%\n",
      "Epoch  6, CIFAR-10 Batch 1:  Loss 2.086822 - Accuracy 29.2%\n",
      "Epoch  7, CIFAR-10 Batch 1:  Loss 2.019467 - Accuracy 31.9%\n",
      "Epoch  8, CIFAR-10 Batch 1:  Loss 1.878834 - Accuracy 34.3%\n",
      "Epoch  9, CIFAR-10 Batch 1:  Loss 1.836903 - Accuracy 36.6%\n",
      "Epoch 10, CIFAR-10 Batch 1:  Loss 1.819798 - Accuracy 38.3%\n",
      "Epoch 11, CIFAR-10 Batch 1:  Loss 1.699326 - Accuracy 39.1%\n",
      "Epoch 12, CIFAR-10 Batch 1:  Loss 1.657192 - Accuracy 40.8%\n",
      "Epoch 13, CIFAR-10 Batch 1:  Loss 1.696470 - Accuracy 40.1%\n",
      "Epoch 14, CIFAR-10 Batch 1:  Loss 1.564627 - Accuracy 41.9%\n",
      "Epoch 15, CIFAR-10 Batch 1:  Loss 1.401873 - Accuracy 43.0%\n",
      "Epoch 16, CIFAR-10 Batch 1:  Loss 1.346692 - Accuracy 44.9%\n",
      "Epoch 17, CIFAR-10 Batch 1:  Loss 1.253827 - Accuracy 48.1%\n",
      "Epoch 18, CIFAR-10 Batch 1:  Loss 1.249460 - Accuracy 47.6%\n",
      "Epoch 19, CIFAR-10 Batch 1:  Loss 1.269813 - Accuracy 48.7%\n",
      "Epoch 20, CIFAR-10 Batch 1:  Loss 1.152465 - Accuracy 49.6%\n",
      "Epoch 21, CIFAR-10 Batch 1:  Loss 1.069381 - Accuracy 49.8%\n",
      "Epoch 22, CIFAR-10 Batch 1:  Loss 1.016115 - Accuracy 50.9%\n",
      "Epoch 23, CIFAR-10 Batch 1:  Loss 0.946825 - Accuracy 50.7%\n",
      "Epoch 24, CIFAR-10 Batch 1:  Loss 0.933310 - Accuracy 49.2%\n",
      "Epoch 25, CIFAR-10 Batch 1:  Loss 0.830674 - Accuracy 51.6%\n",
      "Epoch 26, CIFAR-10 Batch 1:  Loss 0.745717 - Accuracy 52.1%\n",
      "Epoch 27, CIFAR-10 Batch 1:  Loss 0.784328 - Accuracy 51.3%\n",
      "Epoch 28, CIFAR-10 Batch 1:  Loss 0.756279 - Accuracy 50.8%\n",
      "Epoch 29, CIFAR-10 Batch 1:  Loss 0.717447 - Accuracy 52.2%\n",
      "Epoch 30, CIFAR-10 Batch 1:  Loss 0.658979 - Accuracy 50.4%\n",
      "Epoch 31, CIFAR-10 Batch 1:  Loss 0.785595 - Accuracy 50.7%\n",
      "Epoch 32, CIFAR-10 Batch 1:  Loss 0.596304 - Accuracy 51.9%\n",
      "Epoch 33, CIFAR-10 Batch 1:  Loss 0.626662 - Accuracy 51.4%\n",
      "Epoch 34, CIFAR-10 Batch 1:  Loss 0.580176 - Accuracy 53.4%\n",
      "Epoch 35, CIFAR-10 Batch 1:  Loss 0.544720 - Accuracy 51.3%\n",
      "Epoch 36, CIFAR-10 Batch 1:  Loss 0.543070 - Accuracy 52.1%\n",
      "Epoch 37, CIFAR-10 Batch 1:  Loss 0.527017 - Accuracy 53.1%\n",
      "Epoch 38, CIFAR-10 Batch 1:  Loss 0.530738 - Accuracy 52.7%\n",
      "Epoch 39, CIFAR-10 Batch 1:  Loss 0.460599 - Accuracy 53.3%\n",
      "Epoch 40, CIFAR-10 Batch 1:  Loss 0.599724 - Accuracy 52.5%\n",
      "Epoch 41, CIFAR-10 Batch 1:  Loss 0.473808 - Accuracy 53.2%\n",
      "Epoch 42, CIFAR-10 Batch 1:  Loss 0.439360 - Accuracy 54.0%\n",
      "Epoch 43, CIFAR-10 Batch 1:  Loss 0.405787 - Accuracy 54.0%\n",
      "Epoch 44, CIFAR-10 Batch 1:  Loss 0.390923 - Accuracy 53.2%\n",
      "Epoch 45, CIFAR-10 Batch 1:  Loss 0.405291 - Accuracy 53.6%\n",
      "Epoch 46, CIFAR-10 Batch 1:  Loss 0.354302 - Accuracy 53.6%\n",
      "Epoch 47, CIFAR-10 Batch 1:  Loss 0.359095 - Accuracy 54.6%\n",
      "Epoch 48, CIFAR-10 Batch 1:  Loss 0.398983 - Accuracy 54.3%\n",
      "Epoch 49, CIFAR-10 Batch 1:  Loss 0.361821 - Accuracy 54.3%\n",
      "Epoch 50, CIFAR-10 Batch 1:  Loss 0.314460 - Accuracy 54.6%\n"
     ]
    }
   ],
   "source": [
    "\"\"\"\n",
    "DON'T MODIFY ANYTHING IN THIS CELL\n",
    "\"\"\"\n",
    "print('Checking the Training on a Single Batch...')\n",
    "with tf.Session() as sess:\n",
    "    # Initializing the variables\n",
    "    sess.run(tf.global_variables_initializer())\n",
    "    \n",
    "    # Training cycle\n",
    "    for epoch in range(epochs):\n",
    "        batch_i = 1\n",
    "        for batch_features, batch_labels in helper.load_preprocess_training_batch(batch_i, batch_size):\n",
    "            train_neural_network(sess, optimizer, keep_probability, batch_features, batch_labels)\n",
    "        print('Epoch {:>2}, CIFAR-10 Batch {}:  '.format(epoch + 1, batch_i), end='')\n",
    "        print_stats(sess, batch_features, batch_labels, cost, accuracy)"
   ]
  },
  {
   "cell_type": "markdown",
   "metadata": {
    "deletable": true,
    "editable": true
   },
   "source": [
    "### Fully Train the Model\n",
    "Now that you got a good accuracy with a single CIFAR-10 batch, try it with all five batches."
   ]
  },
  {
   "cell_type": "code",
   "execution_count": 513,
   "metadata": {
    "collapsed": false,
    "deletable": true,
    "editable": true
   },
   "outputs": [
    {
     "name": "stdout",
     "output_type": "stream",
     "text": [
      "Training...\n",
      "Epoch  1, CIFAR-10 Batch 1:  Loss 2.270605 - Accuracy 17.1%\n",
      "Epoch  1, CIFAR-10 Batch 2:  Loss 2.015032 - Accuracy 25.1%\n",
      "Epoch  1, CIFAR-10 Batch 3:  Loss 1.748831 - Accuracy 27.2%\n",
      "Epoch  1, CIFAR-10 Batch 4:  Loss 1.804499 - Accuracy 33.8%\n",
      "Epoch  1, CIFAR-10 Batch 5:  Loss 1.708299 - Accuracy 35.6%\n",
      "Epoch  2, CIFAR-10 Batch 1:  Loss 1.889413 - Accuracy 37.8%\n",
      "Epoch  2, CIFAR-10 Batch 2:  Loss 1.798212 - Accuracy 37.0%\n",
      "Epoch  2, CIFAR-10 Batch 3:  Loss 1.380433 - Accuracy 39.6%\n",
      "Epoch  2, CIFAR-10 Batch 4:  Loss 1.636481 - Accuracy 41.0%\n",
      "Epoch  2, CIFAR-10 Batch 5:  Loss 1.560099 - Accuracy 41.0%\n",
      "Epoch  3, CIFAR-10 Batch 1:  Loss 1.727557 - Accuracy 42.8%\n",
      "Epoch  3, CIFAR-10 Batch 2:  Loss 1.557776 - Accuracy 43.3%\n",
      "Epoch  3, CIFAR-10 Batch 3:  Loss 1.213718 - Accuracy 44.8%\n",
      "Epoch  3, CIFAR-10 Batch 4:  Loss 1.486729 - Accuracy 45.4%\n",
      "Epoch  3, CIFAR-10 Batch 5:  Loss 1.468011 - Accuracy 47.0%\n",
      "Epoch  4, CIFAR-10 Batch 1:  Loss 1.498654 - Accuracy 46.2%\n",
      "Epoch  4, CIFAR-10 Batch 2:  Loss 1.440996 - Accuracy 47.6%\n",
      "Epoch  4, CIFAR-10 Batch 3:  Loss 1.177762 - Accuracy 47.6%\n",
      "Epoch  4, CIFAR-10 Batch 4:  Loss 1.415831 - Accuracy 47.8%\n",
      "Epoch  4, CIFAR-10 Batch 5:  Loss 1.286065 - Accuracy 50.8%\n",
      "Epoch  5, CIFAR-10 Batch 1:  Loss 1.299775 - Accuracy 51.4%\n",
      "Epoch  5, CIFAR-10 Batch 2:  Loss 1.201149 - Accuracy 50.8%\n",
      "Epoch  5, CIFAR-10 Batch 3:  Loss 1.121695 - Accuracy 51.7%\n",
      "Epoch  5, CIFAR-10 Batch 4:  Loss 1.310241 - Accuracy 52.7%\n",
      "Epoch  5, CIFAR-10 Batch 5:  Loss 1.230696 - Accuracy 53.2%\n",
      "Epoch  6, CIFAR-10 Batch 1:  Loss 1.128524 - Accuracy 52.4%\n",
      "Epoch  6, CIFAR-10 Batch 2:  Loss 1.211195 - Accuracy 53.8%\n",
      "Epoch  6, CIFAR-10 Batch 3:  Loss 1.078376 - Accuracy 53.3%\n",
      "Epoch  6, CIFAR-10 Batch 4:  Loss 1.261937 - Accuracy 54.4%\n",
      "Epoch  6, CIFAR-10 Batch 5:  Loss 1.255497 - Accuracy 55.7%\n",
      "Epoch  7, CIFAR-10 Batch 1:  Loss 1.037615 - Accuracy 56.9%\n",
      "Epoch  7, CIFAR-10 Batch 2:  Loss 1.089913 - Accuracy 55.8%\n",
      "Epoch  7, CIFAR-10 Batch 3:  Loss 0.938336 - Accuracy 57.3%\n",
      "Epoch  7, CIFAR-10 Batch 4:  Loss 1.192935 - Accuracy 57.1%\n",
      "Epoch  7, CIFAR-10 Batch 5:  Loss 1.124149 - Accuracy 56.9%\n",
      "Epoch  8, CIFAR-10 Batch 1:  Loss 1.025338 - Accuracy 59.2%\n",
      "Epoch  8, CIFAR-10 Batch 2:  Loss 0.950446 - Accuracy 58.8%\n",
      "Epoch  8, CIFAR-10 Batch 3:  Loss 0.893756 - Accuracy 59.1%\n",
      "Epoch  8, CIFAR-10 Batch 4:  Loss 1.100003 - Accuracy 60.0%\n",
      "Epoch  8, CIFAR-10 Batch 5:  Loss 0.972290 - Accuracy 60.1%\n",
      "Epoch  9, CIFAR-10 Batch 1:  Loss 0.895556 - Accuracy 60.6%\n",
      "Epoch  9, CIFAR-10 Batch 2:  Loss 0.901325 - Accuracy 60.6%\n",
      "Epoch  9, CIFAR-10 Batch 3:  Loss 0.840646 - Accuracy 59.0%\n",
      "Epoch  9, CIFAR-10 Batch 4:  Loss 1.085997 - Accuracy 60.7%\n",
      "Epoch  9, CIFAR-10 Batch 5:  Loss 0.948023 - Accuracy 59.4%\n",
      "Epoch 10, CIFAR-10 Batch 1:  Loss 0.923426 - Accuracy 61.5%\n",
      "Epoch 10, CIFAR-10 Batch 2:  Loss 0.818432 - Accuracy 59.4%\n",
      "Epoch 10, CIFAR-10 Batch 3:  Loss 0.857962 - Accuracy 59.2%\n",
      "Epoch 10, CIFAR-10 Batch 4:  Loss 1.019389 - Accuracy 61.3%\n",
      "Epoch 10, CIFAR-10 Batch 5:  Loss 0.874309 - Accuracy 61.9%\n",
      "Epoch 11, CIFAR-10 Batch 1:  Loss 0.798110 - Accuracy 62.6%\n",
      "Epoch 11, CIFAR-10 Batch 2:  Loss 0.850388 - Accuracy 60.2%\n",
      "Epoch 11, CIFAR-10 Batch 3:  Loss 0.755374 - Accuracy 62.5%\n",
      "Epoch 11, CIFAR-10 Batch 4:  Loss 1.043807 - Accuracy 63.0%\n",
      "Epoch 11, CIFAR-10 Batch 5:  Loss 0.795682 - Accuracy 62.2%\n",
      "Epoch 12, CIFAR-10 Batch 1:  Loss 0.737218 - Accuracy 64.0%\n",
      "Epoch 12, CIFAR-10 Batch 2:  Loss 0.794121 - Accuracy 60.5%\n",
      "Epoch 12, CIFAR-10 Batch 3:  Loss 0.677723 - Accuracy 61.9%\n",
      "Epoch 12, CIFAR-10 Batch 4:  Loss 0.961010 - Accuracy 64.1%\n",
      "Epoch 12, CIFAR-10 Batch 5:  Loss 0.818266 - Accuracy 64.0%\n",
      "Epoch 13, CIFAR-10 Batch 1:  Loss 0.745126 - Accuracy 64.6%\n",
      "Epoch 13, CIFAR-10 Batch 2:  Loss 0.733130 - Accuracy 62.5%\n",
      "Epoch 13, CIFAR-10 Batch 3:  Loss 0.648639 - Accuracy 64.0%\n",
      "Epoch 13, CIFAR-10 Batch 4:  Loss 0.875232 - Accuracy 64.7%\n",
      "Epoch 13, CIFAR-10 Batch 5:  Loss 0.796061 - Accuracy 64.0%\n",
      "Epoch 14, CIFAR-10 Batch 1:  Loss 0.700336 - Accuracy 65.2%\n",
      "Epoch 14, CIFAR-10 Batch 2:  Loss 0.705038 - Accuracy 64.6%\n",
      "Epoch 14, CIFAR-10 Batch 3:  Loss 0.643027 - Accuracy 65.4%\n",
      "Epoch 14, CIFAR-10 Batch 4:  Loss 0.844938 - Accuracy 66.0%\n",
      "Epoch 14, CIFAR-10 Batch 5:  Loss 0.724018 - Accuracy 66.0%\n",
      "Epoch 15, CIFAR-10 Batch 1:  Loss 0.707578 - Accuracy 64.7%\n",
      "Epoch 15, CIFAR-10 Batch 2:  Loss 0.632255 - Accuracy 64.6%\n",
      "Epoch 15, CIFAR-10 Batch 3:  Loss 0.642944 - Accuracy 65.8%\n",
      "Epoch 15, CIFAR-10 Batch 4:  Loss 0.874444 - Accuracy 66.1%\n",
      "Epoch 15, CIFAR-10 Batch 5:  Loss 0.680604 - Accuracy 66.7%\n",
      "Epoch 16, CIFAR-10 Batch 1:  Loss 0.624231 - Accuracy 65.7%\n",
      "Epoch 16, CIFAR-10 Batch 2:  Loss 0.705160 - Accuracy 65.4%\n",
      "Epoch 16, CIFAR-10 Batch 3:  Loss 0.638932 - Accuracy 64.8%\n",
      "Epoch 16, CIFAR-10 Batch 4:  Loss 0.794251 - Accuracy 66.5%\n",
      "Epoch 16, CIFAR-10 Batch 5:  Loss 0.649433 - Accuracy 65.9%\n",
      "Epoch 17, CIFAR-10 Batch 1:  Loss 0.663633 - Accuracy 66.4%\n",
      "Epoch 17, CIFAR-10 Batch 2:  Loss 0.673158 - Accuracy 66.0%\n",
      "Epoch 17, CIFAR-10 Batch 3:  Loss 0.604989 - Accuracy 66.8%\n",
      "Epoch 17, CIFAR-10 Batch 4:  Loss 0.657257 - Accuracy 66.4%\n",
      "Epoch 17, CIFAR-10 Batch 5:  Loss 0.624231 - Accuracy 66.6%\n",
      "Epoch 18, CIFAR-10 Batch 1:  Loss 0.636701 - Accuracy 67.3%\n",
      "Epoch 18, CIFAR-10 Batch 2:  Loss 0.589537 - Accuracy 67.4%\n",
      "Epoch 18, CIFAR-10 Batch 3:  Loss 0.568853 - Accuracy 66.8%\n",
      "Epoch 18, CIFAR-10 Batch 4:  Loss 0.735371 - Accuracy 65.7%\n",
      "Epoch 18, CIFAR-10 Batch 5:  Loss 0.611022 - Accuracy 67.0%\n",
      "Epoch 19, CIFAR-10 Batch 1:  Loss 0.595314 - Accuracy 66.5%\n",
      "Epoch 19, CIFAR-10 Batch 2:  Loss 0.585979 - Accuracy 66.7%\n",
      "Epoch 19, CIFAR-10 Batch 3:  Loss 0.566127 - Accuracy 66.9%\n",
      "Epoch 19, CIFAR-10 Batch 4:  Loss 0.728915 - Accuracy 67.4%\n",
      "Epoch 19, CIFAR-10 Batch 5:  Loss 0.661425 - Accuracy 66.6%\n",
      "Epoch 20, CIFAR-10 Batch 1:  Loss 0.619151 - Accuracy 66.9%\n",
      "Epoch 20, CIFAR-10 Batch 2:  Loss 0.616382 - Accuracy 68.3%\n",
      "Epoch 20, CIFAR-10 Batch 3:  Loss 0.464340 - Accuracy 66.2%\n",
      "Epoch 20, CIFAR-10 Batch 4:  Loss 0.613719 - Accuracy 67.7%\n",
      "Epoch 20, CIFAR-10 Batch 5:  Loss 0.507253 - Accuracy 66.9%\n",
      "Epoch 21, CIFAR-10 Batch 1:  Loss 0.553778 - Accuracy 67.5%\n",
      "Epoch 21, CIFAR-10 Batch 2:  Loss 0.524432 - Accuracy 66.4%\n",
      "Epoch 21, CIFAR-10 Batch 3:  Loss 0.559790 - Accuracy 66.9%\n",
      "Epoch 21, CIFAR-10 Batch 4:  Loss 0.735401 - Accuracy 68.1%\n",
      "Epoch 21, CIFAR-10 Batch 5:  Loss 0.565954 - Accuracy 68.6%\n",
      "Epoch 22, CIFAR-10 Batch 1:  Loss 0.544537 - Accuracy 69.1%\n",
      "Epoch 22, CIFAR-10 Batch 2:  Loss 0.555274 - Accuracy 68.7%\n",
      "Epoch 22, CIFAR-10 Batch 3:  Loss 0.450006 - Accuracy 68.4%\n",
      "Epoch 22, CIFAR-10 Batch 4:  Loss 0.681878 - Accuracy 68.1%\n",
      "Epoch 22, CIFAR-10 Batch 5:  Loss 0.600558 - Accuracy 66.9%\n",
      "Epoch 23, CIFAR-10 Batch 1:  Loss 0.661572 - Accuracy 67.4%\n",
      "Epoch 23, CIFAR-10 Batch 2:  Loss 0.443707 - Accuracy 68.7%\n",
      "Epoch 23, CIFAR-10 Batch 3:  Loss 0.497003 - Accuracy 67.5%\n",
      "Epoch 23, CIFAR-10 Batch 4:  Loss 0.530082 - Accuracy 68.6%\n",
      "Epoch 23, CIFAR-10 Batch 5:  Loss 0.517793 - Accuracy 68.3%\n",
      "Epoch 24, CIFAR-10 Batch 1:  Loss 0.563767 - Accuracy 67.3%\n",
      "Epoch 24, CIFAR-10 Batch 2:  Loss 0.452233 - Accuracy 67.3%\n",
      "Epoch 24, CIFAR-10 Batch 3:  Loss 0.423036 - Accuracy 67.9%\n",
      "Epoch 24, CIFAR-10 Batch 4:  Loss 0.495477 - Accuracy 68.4%\n",
      "Epoch 24, CIFAR-10 Batch 5:  Loss 0.545161 - Accuracy 68.4%\n",
      "Epoch 25, CIFAR-10 Batch 1:  Loss 0.534887 - Accuracy 69.4%\n",
      "Epoch 25, CIFAR-10 Batch 2:  Loss 0.506368 - Accuracy 68.2%\n",
      "Epoch 25, CIFAR-10 Batch 3:  Loss 0.398563 - Accuracy 68.6%\n",
      "Epoch 25, CIFAR-10 Batch 4:  Loss 0.477505 - Accuracy 69.4%\n",
      "Epoch 25, CIFAR-10 Batch 5:  Loss 0.542515 - Accuracy 68.3%\n",
      "Epoch 26, CIFAR-10 Batch 1:  Loss 0.505609 - Accuracy 69.2%\n",
      "Epoch 26, CIFAR-10 Batch 2:  Loss 0.495377 - Accuracy 68.7%\n",
      "Epoch 26, CIFAR-10 Batch 3:  Loss 0.373234 - Accuracy 68.0%\n",
      "Epoch 26, CIFAR-10 Batch 4:  Loss 0.467456 - Accuracy 69.3%\n",
      "Epoch 26, CIFAR-10 Batch 5:  Loss 0.490165 - Accuracy 67.8%\n",
      "Epoch 27, CIFAR-10 Batch 1:  Loss 0.499693 - Accuracy 69.0%\n",
      "Epoch 27, CIFAR-10 Batch 2:  Loss 0.433881 - Accuracy 69.1%\n",
      "Epoch 27, CIFAR-10 Batch 3:  Loss 0.363239 - Accuracy 69.1%\n",
      "Epoch 27, CIFAR-10 Batch 4:  Loss 0.595318 - Accuracy 68.1%\n",
      "Epoch 27, CIFAR-10 Batch 5:  Loss 0.615834 - Accuracy 66.8%\n",
      "Epoch 28, CIFAR-10 Batch 1:  Loss 0.536928 - Accuracy 67.7%\n",
      "Epoch 28, CIFAR-10 Batch 2:  Loss 0.435100 - Accuracy 68.1%\n",
      "Epoch 28, CIFAR-10 Batch 3:  Loss 0.359587 - Accuracy 69.6%\n",
      "Epoch 28, CIFAR-10 Batch 4:  Loss 0.467210 - Accuracy 68.8%\n",
      "Epoch 28, CIFAR-10 Batch 5:  Loss 0.468654 - Accuracy 69.0%\n",
      "Epoch 29, CIFAR-10 Batch 1:  Loss 0.463452 - Accuracy 67.4%\n",
      "Epoch 29, CIFAR-10 Batch 2:  Loss 0.429753 - Accuracy 68.2%\n",
      "Epoch 29, CIFAR-10 Batch 3:  Loss 0.381157 - Accuracy 69.0%\n",
      "Epoch 29, CIFAR-10 Batch 4:  Loss 0.424562 - Accuracy 69.3%\n",
      "Epoch 29, CIFAR-10 Batch 5:  Loss 0.521334 - Accuracy 68.3%\n",
      "Epoch 30, CIFAR-10 Batch 1:  Loss 0.565075 - Accuracy 69.0%\n",
      "Epoch 30, CIFAR-10 Batch 2:  Loss 0.435468 - Accuracy 68.5%\n",
      "Epoch 30, CIFAR-10 Batch 3:  Loss 0.349853 - Accuracy 69.0%\n",
      "Epoch 30, CIFAR-10 Batch 4:  Loss 0.384809 - Accuracy 69.2%\n",
      "Epoch 30, CIFAR-10 Batch 5:  Loss 0.430214 - Accuracy 67.8%\n",
      "Epoch 31, CIFAR-10 Batch 1:  Loss 0.507482 - Accuracy 69.1%\n",
      "Epoch 31, CIFAR-10 Batch 2:  Loss 0.406943 - Accuracy 69.6%\n",
      "Epoch 31, CIFAR-10 Batch 3:  Loss 0.311756 - Accuracy 70.1%\n",
      "Epoch 31, CIFAR-10 Batch 4:  Loss 0.406419 - Accuracy 69.2%\n",
      "Epoch 31, CIFAR-10 Batch 5:  Loss 0.388634 - Accuracy 70.7%\n",
      "Epoch 32, CIFAR-10 Batch 1:  Loss 0.469804 - Accuracy 68.8%\n",
      "Epoch 32, CIFAR-10 Batch 2:  Loss 0.392960 - Accuracy 69.9%\n",
      "Epoch 32, CIFAR-10 Batch 3:  Loss 0.346705 - Accuracy 68.9%\n",
      "Epoch 32, CIFAR-10 Batch 4:  Loss 0.488902 - Accuracy 69.7%\n",
      "Epoch 32, CIFAR-10 Batch 5:  Loss 0.371647 - Accuracy 69.9%\n",
      "Epoch 33, CIFAR-10 Batch 1:  Loss 0.473936 - Accuracy 69.2%\n",
      "Epoch 33, CIFAR-10 Batch 2:  Loss 0.385894 - Accuracy 69.3%\n",
      "Epoch 33, CIFAR-10 Batch 3:  Loss 0.395376 - Accuracy 67.7%\n",
      "Epoch 33, CIFAR-10 Batch 4:  Loss 0.417025 - Accuracy 69.4%\n",
      "Epoch 33, CIFAR-10 Batch 5:  Loss 0.397026 - Accuracy 69.8%\n",
      "Epoch 34, CIFAR-10 Batch 1:  Loss 0.441137 - Accuracy 69.6%\n",
      "Epoch 34, CIFAR-10 Batch 2:  Loss 0.338157 - Accuracy 69.4%\n",
      "Epoch 34, CIFAR-10 Batch 3:  Loss 0.313188 - Accuracy 69.3%\n",
      "Epoch 34, CIFAR-10 Batch 4:  Loss 0.424069 - Accuracy 68.2%\n",
      "Epoch 34, CIFAR-10 Batch 5:  Loss 0.385784 - Accuracy 69.2%\n",
      "Epoch 35, CIFAR-10 Batch 1:  Loss 0.474566 - Accuracy 69.0%\n",
      "Epoch 35, CIFAR-10 Batch 2:  Loss 0.378410 - Accuracy 69.1%\n",
      "Epoch 35, CIFAR-10 Batch 3:  Loss 0.333863 - Accuracy 69.9%\n",
      "Epoch 35, CIFAR-10 Batch 4:  Loss 0.391816 - Accuracy 69.8%\n",
      "Epoch 35, CIFAR-10 Batch 5:  Loss 0.405656 - Accuracy 70.5%\n",
      "Epoch 36, CIFAR-10 Batch 1:  Loss 0.414726 - Accuracy 69.8%\n",
      "Epoch 36, CIFAR-10 Batch 2:  Loss 0.342086 - Accuracy 69.4%\n",
      "Epoch 36, CIFAR-10 Batch 3:  Loss 0.277492 - Accuracy 70.0%\n",
      "Epoch 36, CIFAR-10 Batch 4:  Loss 0.376938 - Accuracy 68.9%\n",
      "Epoch 36, CIFAR-10 Batch 5:  Loss 0.393732 - Accuracy 69.4%\n",
      "Epoch 37, CIFAR-10 Batch 1:  Loss 0.392734 - Accuracy 70.2%\n",
      "Epoch 37, CIFAR-10 Batch 2:  Loss 0.397282 - Accuracy 70.2%\n",
      "Epoch 37, CIFAR-10 Batch 3:  Loss 0.283162 - Accuracy 69.8%\n",
      "Epoch 37, CIFAR-10 Batch 4:  Loss 0.352719 - Accuracy 70.2%\n",
      "Epoch 37, CIFAR-10 Batch 5:  Loss 0.310215 - Accuracy 69.7%\n",
      "Epoch 38, CIFAR-10 Batch 1:  Loss 0.479960 - Accuracy 68.4%\n",
      "Epoch 38, CIFAR-10 Batch 2:  Loss 0.430665 - Accuracy 69.8%\n",
      "Epoch 38, CIFAR-10 Batch 3:  Loss 0.266823 - Accuracy 69.8%\n",
      "Epoch 38, CIFAR-10 Batch 4:  Loss 0.319724 - Accuracy 69.8%\n",
      "Epoch 38, CIFAR-10 Batch 5:  Loss 0.341840 - Accuracy 68.6%\n",
      "Epoch 39, CIFAR-10 Batch 1:  Loss 0.405950 - Accuracy 68.8%\n",
      "Epoch 39, CIFAR-10 Batch 2:  Loss 0.363649 - Accuracy 69.3%\n",
      "Epoch 39, CIFAR-10 Batch 3:  Loss 0.233377 - Accuracy 70.0%\n",
      "Epoch 39, CIFAR-10 Batch 4:  Loss 0.376681 - Accuracy 68.4%\n",
      "Epoch 39, CIFAR-10 Batch 5:  Loss 0.271342 - Accuracy 68.8%\n",
      "Epoch 40, CIFAR-10 Batch 1:  Loss 0.488742 - Accuracy 68.9%\n",
      "Epoch 40, CIFAR-10 Batch 2:  Loss 0.323619 - Accuracy 69.5%\n",
      "Epoch 40, CIFAR-10 Batch 3:  Loss 0.268989 - Accuracy 70.6%\n",
      "Epoch 40, CIFAR-10 Batch 4:  Loss 0.338913 - Accuracy 69.5%\n",
      "Epoch 40, CIFAR-10 Batch 5:  Loss 0.365996 - Accuracy 68.9%\n",
      "Epoch 41, CIFAR-10 Batch 1:  Loss 0.376835 - Accuracy 70.0%\n",
      "Epoch 41, CIFAR-10 Batch 2:  Loss 0.305558 - Accuracy 69.5%\n",
      "Epoch 41, CIFAR-10 Batch 3:  Loss 0.278616 - Accuracy 70.0%\n",
      "Epoch 41, CIFAR-10 Batch 4:  Loss 0.333190 - Accuracy 70.7%\n",
      "Epoch 41, CIFAR-10 Batch 5:  Loss 0.239276 - Accuracy 70.7%\n",
      "Epoch 42, CIFAR-10 Batch 1:  Loss 0.401047 - Accuracy 69.5%\n",
      "Epoch 42, CIFAR-10 Batch 2:  Loss 0.305318 - Accuracy 69.3%\n",
      "Epoch 42, CIFAR-10 Batch 3:  Loss 0.326389 - Accuracy 69.7%\n",
      "Epoch 42, CIFAR-10 Batch 4:  Loss 0.287807 - Accuracy 70.4%\n",
      "Epoch 42, CIFAR-10 Batch 5:  Loss 0.281009 - Accuracy 69.2%\n",
      "Epoch 43, CIFAR-10 Batch 1:  Loss 0.489962 - Accuracy 66.8%\n",
      "Epoch 43, CIFAR-10 Batch 2:  Loss 0.310901 - Accuracy 70.1%\n",
      "Epoch 43, CIFAR-10 Batch 3:  Loss 0.255779 - Accuracy 70.9%\n",
      "Epoch 43, CIFAR-10 Batch 4:  Loss 0.265737 - Accuracy 70.4%\n",
      "Epoch 43, CIFAR-10 Batch 5:  Loss 0.206963 - Accuracy 70.8%\n",
      "Epoch 44, CIFAR-10 Batch 1:  Loss 0.420489 - Accuracy 70.6%\n",
      "Epoch 44, CIFAR-10 Batch 2:  Loss 0.281073 - Accuracy 69.9%\n",
      "Epoch 44, CIFAR-10 Batch 3:  Loss 0.207030 - Accuracy 70.4%\n",
      "Epoch 44, CIFAR-10 Batch 4:  Loss 0.338547 - Accuracy 70.3%\n",
      "Epoch 44, CIFAR-10 Batch 5:  Loss 0.342746 - Accuracy 69.1%\n",
      "Epoch 45, CIFAR-10 Batch 1:  Loss 0.389385 - Accuracy 69.8%\n",
      "Epoch 45, CIFAR-10 Batch 2:  Loss 0.319818 - Accuracy 70.1%\n",
      "Epoch 45, CIFAR-10 Batch 3:  Loss 0.281738 - Accuracy 70.8%\n",
      "Epoch 45, CIFAR-10 Batch 4:  Loss 0.276093 - Accuracy 70.4%\n",
      "Epoch 45, CIFAR-10 Batch 5:  Loss 0.197017 - Accuracy 71.1%\n",
      "Epoch 46, CIFAR-10 Batch 1:  Loss 0.369323 - Accuracy 70.2%\n",
      "Epoch 46, CIFAR-10 Batch 2:  Loss 0.308635 - Accuracy 70.8%\n",
      "Epoch 46, CIFAR-10 Batch 3:  Loss 0.381661 - Accuracy 69.2%\n",
      "Epoch 46, CIFAR-10 Batch 4:  Loss 0.301986 - Accuracy 70.1%\n",
      "Epoch 46, CIFAR-10 Batch 5:  Loss 0.195540 - Accuracy 71.1%\n",
      "Epoch 47, CIFAR-10 Batch 1:  Loss 0.407960 - Accuracy 70.4%\n",
      "Epoch 47, CIFAR-10 Batch 2:  Loss 0.322369 - Accuracy 70.1%\n",
      "Epoch 47, CIFAR-10 Batch 3:  Loss 0.276659 - Accuracy 69.5%\n",
      "Epoch 47, CIFAR-10 Batch 4:  Loss 0.269204 - Accuracy 70.2%\n",
      "Epoch 47, CIFAR-10 Batch 5:  Loss 0.180291 - Accuracy 70.6%\n",
      "Epoch 48, CIFAR-10 Batch 1:  Loss 0.405113 - Accuracy 70.3%\n",
      "Epoch 48, CIFAR-10 Batch 2:  Loss 0.323367 - Accuracy 69.6%\n",
      "Epoch 48, CIFAR-10 Batch 3:  Loss 0.273104 - Accuracy 69.8%\n",
      "Epoch 48, CIFAR-10 Batch 4:  Loss 0.333901 - Accuracy 69.7%\n",
      "Epoch 48, CIFAR-10 Batch 5:  Loss 0.178099 - Accuracy 70.7%\n",
      "Epoch 49, CIFAR-10 Batch 1:  Loss 0.391008 - Accuracy 70.4%\n",
      "Epoch 49, CIFAR-10 Batch 2:  Loss 0.301905 - Accuracy 70.9%\n",
      "Epoch 49, CIFAR-10 Batch 3:  Loss 0.222697 - Accuracy 70.9%\n",
      "Epoch 49, CIFAR-10 Batch 4:  Loss 0.260217 - Accuracy 70.5%\n",
      "Epoch 49, CIFAR-10 Batch 5:  Loss 0.387599 - Accuracy 66.9%\n",
      "Epoch 50, CIFAR-10 Batch 1:  Loss 0.434159 - Accuracy 70.6%\n",
      "Epoch 50, CIFAR-10 Batch 2:  Loss 0.254849 - Accuracy 70.2%\n",
      "Epoch 50, CIFAR-10 Batch 3:  Loss 0.254078 - Accuracy 69.8%\n",
      "Epoch 50, CIFAR-10 Batch 4:  Loss 0.370230 - Accuracy 69.5%\n",
      "Epoch 50, CIFAR-10 Batch 5:  Loss 0.181012 - Accuracy 69.8%\n"
     ]
    }
   ],
   "source": [
    "\"\"\"\n",
    "DON'T MODIFY ANYTHING IN THIS CELL\n",
    "\"\"\"\n",
    "save_model_path = './image_classification'\n",
    "\n",
    "print('Training...')\n",
    "with tf.Session() as sess:\n",
    "    # Initializing the variables\n",
    "    sess.run(tf.global_variables_initializer())\n",
    "    \n",
    "    # Training cycle\n",
    "    for epoch in range(epochs):\n",
    "        # Loop over all batches\n",
    "        n_batches = 5\n",
    "        for batch_i in range(1, n_batches + 1):\n",
    "            for batch_features, batch_labels in helper.load_preprocess_training_batch(batch_i, batch_size):\n",
    "                train_neural_network(sess, optimizer, keep_probability, batch_features, batch_labels)\n",
    "            print('Epoch {:>2}, CIFAR-10 Batch {}:  '.format(epoch + 1, batch_i), end='')\n",
    "            print_stats(sess, batch_features, batch_labels, cost, accuracy)\n",
    "            \n",
    "    # Save Model\n",
    "    saver = tf.train.Saver()\n",
    "    save_path = saver.save(sess, save_model_path)"
   ]
  },
  {
   "cell_type": "markdown",
   "metadata": {
    "deletable": true,
    "editable": true
   },
   "source": [
    "# Checkpoint\n",
    "The model has been saved to disk.\n",
    "## Test Model\n",
    "Test your model against the test dataset.  This will be your final accuracy. You should have an accuracy greater than 50%. If you don't, keep tweaking the model architecture and parameters."
   ]
  },
  {
   "cell_type": "code",
   "execution_count": 514,
   "metadata": {
    "collapsed": false,
    "deletable": true,
    "editable": true
   },
   "outputs": [
    {
     "name": "stdout",
     "output_type": "stream",
     "text": [
      "Testing Accuracy: 0.6936703821656051\n",
      "\n"
     ]
    },
    {
     "data": {
      "image/png": "[encoded data removed]",
      "text/plain": [
       "<matplotlib.figure.Figure at 0x7fdaf1d82fd0>"
      ]
     },
     "metadata": {
      "image/png": {
       "height": 319,
       "width": 355
      }
     },
     "output_type": "display_data"
    }
   ],
   "source": [
    "\"\"\"\n",
    "DON'T MODIFY ANYTHING IN THIS CELL\n",
    "\"\"\"\n",
    "%matplotlib inline\n",
    "%config InlineBackend.figure_format = 'retina'\n",
    "\n",
    "import tensorflow as tf\n",
    "import pickle\n",
    "import helper\n",
    "import random\n",
    "\n",
    "# Set batch size if not already set\n",
    "try:\n",
    "    if batch_size:\n",
    "        pass\n",
    "except NameError:\n",
    "    batch_size = 64\n",
    "\n",
    "save_model_path = './image_classification'\n",
    "n_samples = 4\n",
    "top_n_predictions = 3\n",
    "\n",
    "def test_model():\n",
    "    \"\"\"\n",
    "    Test the saved model against the test dataset\n",
    "    \"\"\"\n",
    "\n",
    "    test_features, test_labels = pickle.load(open('preprocess_test.p', mode='rb'))\n",
    "    loaded_graph = tf.Graph()\n",
    "\n",
    "    with tf.Session(graph=loaded_graph) as sess:\n",
    "        # Load model\n",
    "        loader = tf.train.import_meta_graph(save_model_path + '.meta')\n",
    "        loader.restore(sess, save_model_path)\n",
    "\n",
    "        # Get Tensors from loaded model\n",
    "        loaded_x = loaded_graph.get_tensor_by_name('x:0')\n",
    "        loaded_y = loaded_graph.get_tensor_by_name('y:0')\n",
    "        loaded_keep_prob = loaded_graph.get_tensor_by_name('keep_prob:0')\n",
    "        loaded_logits = loaded_graph.get_tensor_by_name('logits:0')\n",
    "        loaded_acc = loaded_graph.get_tensor_by_name('accuracy:0')\n",
    "        \n",
    "        # Get accuracy in batches for memory limitations\n",
    "        test_batch_acc_total = 0\n",
    "        test_batch_count = 0\n",
    "        \n",
    "        for test_feature_batch, test_label_batch in helper.batch_features_labels(test_features, test_labels, batch_size):\n",
    "            test_batch_acc_total += sess.run(\n",
    "                loaded_acc,\n",
    "                feed_dict={loaded_x: test_feature_batch, loaded_y: test_label_batch, loaded_keep_prob: 1.0})\n",
    "            test_batch_count += 1\n",
    "\n",
    "        print('Testing Accuracy: {}\\n'.format(test_batch_acc_total/test_batch_count))\n",
    "\n",
    "        # Print Random Samples\n",
    "        random_test_features, random_test_labels = tuple(zip(*random.sample(list(zip(test_features, test_labels)), n_samples)))\n",
    "        random_test_predictions = sess.run(\n",
    "            tf.nn.top_k(tf.nn.softmax(loaded_logits), top_n_predictions),\n",
    "            feed_dict={loaded_x: random_test_features, loaded_y: random_test_labels, loaded_keep_prob: 1.0})\n",
    "        helper.display_image_predictions(random_test_features, random_test_labels, random_test_predictions)\n",
    "\n",
    "\n",
    "test_model()"
   ]
  },
  {
   "cell_type": "markdown",
   "metadata": {
    "deletable": true,
    "editable": true
   },
   "source": [
    "## Why 50-80% Accuracy?\n",
    "You might be wondering why you can't get an accuracy any higher. First things first, 50% isn't bad for a simple CNN.  Pure guessing would get you 10% accuracy. However, you might notice people are getting scores [well above 80%](http://rodrigob.github.io/are_we_there_yet/build/classification_datasets_results.html#43494641522d3130).  That's because we haven't taught you all there is to know about neural networks. We still need to cover a few more techniques.\n",
    "## Submitting This Project\n",
    "When submitting this project, make sure to run all the cells before saving the notebook.  Save the notebook file as \"dlnd_image_classification.ipynb\" and save it as a HTML file under \"File\" -> \"Download as\".  Include the \"helper.py\" and \"problem_unittests.py\" files in your submission."
   ]
  }
 ],
 "metadata": {
  "kernelspec": {
   "display_name": "Python 3",
   "language": "python",
   "name": "python3"
  },
  "language_info": {
   "codemirror_mode": {
    "name": "ipython",
    "version": 3
   },
   "file_extension": ".py",
   "mimetype": "text/x-python",
   "name": "python",
   "nbconvert_exporter": "python",
   "pygments_lexer": "ipython3",
   "version": "3.5.3"
  }
 },
 "nbformat": 4,
 "nbformat_minor": 0
}
